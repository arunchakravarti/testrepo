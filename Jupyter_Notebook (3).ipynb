{
 "cells": [
  {
   "cell_type": "markdown",
   "metadata": {},
   "source": [
    "<center>\n",
    "    <img src=\"https://s3-api.us-geo.objectstorage.softlayer.net/cf-courses-data/CognitiveClass/Logos/organization_logo/organization_logo.png\" width=\"300\" alt=\"cognitiveclass.ai logo\"  />\n",
    "</center>\n"
   ]
  },
  {
   "cell_type": "markdown",
   "metadata": {},
   "source": [
    "#### Add your code below following the instructions given in the course\n"
   ]
  },
  {
   "cell_type": "code",
   "execution_count": 2,
   "metadata": {},
   "outputs": [
    {
     "data": {
      "text/plain": [
       "'My Jupyter Notebook on IBM Watson Studio'"
      ]
     },
     "execution_count": 2,
     "metadata": {},
     "output_type": "execute_result"
    }
   ],
   "source": [
    "\"My Jupyter Notebook on IBM Watson Studio\""
   ]
  },
  {
   "cell_type": "code",
   "execution_count": 3,
   "metadata": {},
   "outputs": [
    {
     "data": {
      "text/plain": [
       "'Arun Kumar Chakravarti'"
      ]
     },
     "execution_count": 3,
     "metadata": {},
     "output_type": "execute_result"
    }
   ],
   "source": [
    "\"Arun Kumar Chakravarti\""
   ]
  },
  {
   "cell_type": "code",
   "execution_count": 5,
   "metadata": {},
   "outputs": [
    {
     "data": {
      "text/plain": [
       "'I am interested in data science because I really want to learn and to progress in my career. Programming requires constant learning and improving. Taking this course will help me to learn and study this Data Science and also to implement it. It can help me advance in my knowledge. This course will help me in defining Data Science, understanding how Python could potentially impact our business and industry, to write a thought leadership piece regarding use cases and industry potential of Data Science, explain Data Science to clients, friends, joining a community of economists, business leaders, entrepreneurs, and technologists that are shaping this technology as we speak.'"
      ]
     },
     "execution_count": 5,
     "metadata": {},
     "output_type": "execute_result"
    }
   ],
   "source": [
    "\"I am interested in data science because I really want to learn and to progress in my career. Programming requires constant learning and improving. Taking this course will help me to learn and study this Data Science and also to implement it. It can help me advance in my knowledge. This course will help me in defining Data Science, understanding how Python could potentially impact our business and industry, to write a thought leadership piece regarding use cases and industry potential of Data Science, explain Data Science to clients, friends, joining a community of economists, business leaders, entrepreneurs, and technologists that are shaping this technology as we speak.\""
   ]
  },
  {
   "cell_type": "code",
   "execution_count": 7,
   "metadata": {},
   "outputs": [
    {
     "data": {
      "text/plain": [
       "True"
      ]
     },
     "execution_count": 7,
     "metadata": {},
     "output_type": "execute_result"
    }
   ],
   "source": [
    "def guess(n):\n",
    "    return (n*(n+1))/2\n",
    "guess(100)==sum(range(101))"
   ]
  },
  {
   "cell_type": "code",
   "execution_count": null,
   "metadata": {},
   "outputs": [],
   "source": []
  }
 ],
 "metadata": {
  "kernelspec": {
   "display_name": "Python",
   "language": "python",
   "name": "conda-env-python-py"
  },
  "language_info": {
   "codemirror_mode": {
    "name": "ipython",
    "version": 3
   },
   "file_extension": ".py",
   "mimetype": "text/x-python",
   "name": "python",
   "nbconvert_exporter": "python",
   "pygments_lexer": "ipython3",
   "version": "3.7.12"
  }
 },
 "nbformat": 4,
 "nbformat_minor": 4
}
